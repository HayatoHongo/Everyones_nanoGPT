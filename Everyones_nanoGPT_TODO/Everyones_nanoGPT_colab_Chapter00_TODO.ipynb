version https://git-lfs.github.com/spec/v1
oid sha256:1406440f0a9ef1733d0c1314f9d14fadeec6d8b951e1258df802d8b01ae72f82
size 5512691
