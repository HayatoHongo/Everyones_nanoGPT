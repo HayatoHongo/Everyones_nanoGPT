version https://git-lfs.github.com/spec/v1
oid sha256:51b8a9688962fbd4a31d0e7ce419ab0c63ab8ab633b8cd71bc70f48d327ffd75
size 210054
