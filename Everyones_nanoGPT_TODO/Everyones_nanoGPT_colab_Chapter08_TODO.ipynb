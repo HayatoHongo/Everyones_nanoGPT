version https://git-lfs.github.com/spec/v1
oid sha256:67065e59606e41580357ad771adbef8261bd70074062cf8b1bb38f534fc063ff
size 2175732
