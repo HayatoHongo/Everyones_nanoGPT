version https://git-lfs.github.com/spec/v1
oid sha256:eb3579b4af8aed0285aa0100ae06924e800ca2763f93c61813ad357dfd272d48
size 426768
