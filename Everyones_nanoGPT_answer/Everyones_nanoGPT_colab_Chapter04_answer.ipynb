version https://git-lfs.github.com/spec/v1
oid sha256:b16c9a2e0245a2434394519e956030ca2ee791f4e624bb829ead1967f3a95549
size 392786
