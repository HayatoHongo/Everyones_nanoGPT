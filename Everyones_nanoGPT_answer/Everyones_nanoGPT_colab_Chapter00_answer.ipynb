version https://git-lfs.github.com/spec/v1
oid sha256:4030ca3f386a6dbbcd76e2625b6183736cb0991aadc5d31568db4608b313cd2c
size 7071483
