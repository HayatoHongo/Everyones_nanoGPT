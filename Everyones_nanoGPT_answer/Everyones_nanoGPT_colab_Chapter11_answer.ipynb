version https://git-lfs.github.com/spec/v1
oid sha256:750ab09d93e33e75adb7d90d3452cfa8ceef75cdd2ba1acfc72e0fcd39548fb2
size 299015
