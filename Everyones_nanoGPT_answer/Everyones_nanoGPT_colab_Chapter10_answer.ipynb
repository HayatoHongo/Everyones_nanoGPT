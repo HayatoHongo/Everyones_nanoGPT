version https://git-lfs.github.com/spec/v1
oid sha256:77a540177645b72715141b94bbebc930a4c9f58fed6106dbeb2c9be8f67b9ccd
size 262327
